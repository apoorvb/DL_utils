{
  "nbformat": 4,
  "nbformat_minor": 0,
  "metadata": {
    "colab": {
      "name": "Emotion_det.ipynb",
      "provenance": [],
      "collapsed_sections": [],
      "toc_visible": true
    },
    "kernelspec": {
      "display_name": "Python 3",
      "name": "python3"
    }
  },
  "cells": [
    {
      "cell_type": "code",
      "metadata": {
        "id": "y46fMCqBft0D"
      },
      "source": [
        "import spacy"
      ],
      "execution_count": 1,
      "outputs": []
    },
    {
      "cell_type": "code",
      "metadata": {
        "id": "tSoYTr3Yu5B8"
      },
      "source": [
        "text = 'In publishing and graphic design, Lorem ipsum is a placeholder text commonly used to demonstrate the visual form of a document or a typeface without relying on meaningful content. Lorem ipsum may be used as a placeholder before final copy is available.'"
      ],
      "execution_count": 2,
      "outputs": []
    },
    {
      "cell_type": "code",
      "metadata": {
        "id": "Txo6TGQUu-Mf"
      },
      "source": [
        "nlp = spacy.load('en_core_web_sm')"
      ],
      "execution_count": 4,
      "outputs": []
    },
    {
      "cell_type": "code",
      "metadata": {
        "colab": {
          "base_uri": "https://localhost:8080/"
        },
        "id": "AzHVh93BzdC_",
        "outputId": "60e38ce5-2879-4153-dea5-dba078289b0f"
      },
      "source": [
        "proc = nlp(text)"
      ],
      "execution_count": 5,
      "outputs": [
        {
          "output_type": "execute_result",
          "data": {
            "text/plain": [
              "In publishing and graphic design, Lorem ipsum is a placeholder text commonly used to demonstrate the visual form of a document or a typeface without relying on meaningful content. Lorem ipsum may be used as a placeholder before final copy is available."
            ]
          },
          "metadata": {
            "tags": []
          },
          "execution_count": 5
        }
      ]
    },
    {
      "cell_type": "markdown",
      "metadata": {
        "id": "JFz9Z9qE01as"
      },
      "source": [
        "## number of sentences."
      ]
    },
    {
      "cell_type": "code",
      "metadata": {
        "colab": {
          "base_uri": "https://localhost:8080/"
        },
        "id": "E1IMlXNzz4P0",
        "outputId": "d6f7e28a-cc7f-4405-8c97-57428af83258"
      },
      "source": [
        "'''\n",
        "Sample text - \n",
        "'In publishing and graphic design, Lorem ipsum is a placeholder text commonly used to demonstrate the visual form of a document or a typeface without relying on meaningful content. \n",
        "Lorem ipsum may be used as a placeholder before final copy is available.'\n",
        "'''\n",
        "sent = list(proc.sents)\n",
        "len(sent)"
      ],
      "execution_count": 7,
      "outputs": [
        {
          "output_type": "execute_result",
          "data": {
            "text/plain": [
              "2"
            ]
          },
          "metadata": {
            "tags": []
          },
          "execution_count": 7
        }
      ]
    },
    {
      "cell_type": "markdown",
      "metadata": {
        "id": "rDBq95Tu7iGx"
      },
      "source": [
        "## tokenisation"
      ]
    },
    {
      "cell_type": "code",
      "metadata": {
        "colab": {
          "base_uri": "https://localhost:8080/"
        },
        "id": "ikO7W6jvzsvT",
        "outputId": "46ed415c-adad-4139-996b-40fcb81fb72c"
      },
      "source": [
        "print (len([token.text for token in proc]))"
      ],
      "execution_count": 19,
      "outputs": [
        {
          "output_type": "stream",
          "text": [
            "45\n"
          ],
          "name": "stdout"
        }
      ]
    },
    {
      "cell_type": "markdown",
      "metadata": {
        "id": "uUMVTWiAZhFl"
      },
      "source": [
        "## removing stop words"
      ]
    },
    {
      "cell_type": "code",
      "metadata": {
        "colab": {
          "base_uri": "https://localhost:8080/"
        },
        "id": "5CbeI8Qu0z_q",
        "outputId": "3eafa476-7c85-4cc1-c01b-ea2c07a2f86c"
      },
      "source": [
        "print(len([token for token in proc if not token.is_stop]))"
      ],
      "execution_count": 18,
      "outputs": [
        {
          "output_type": "stream",
          "text": [
            "25\n"
          ],
          "name": "stdout"
        }
      ]
    },
    {
      "cell_type": "markdown",
      "metadata": {
        "id": "DjMsEMcNZc9Z"
      },
      "source": [
        "## lower case lemmatisation"
      ]
    },
    {
      "cell_type": "code",
      "metadata": {
        "colab": {
          "base_uri": "https://localhost:8080/"
        },
        "id": "yskZ3tq287ms",
        "outputId": "f3f8ea13-864d-45d5-a97d-df021f3268c3"
      },
      "source": [
        "print([token.lemma_.strip().lower() for token in proc])"
      ],
      "execution_count": 20,
      "outputs": [
        {
          "output_type": "stream",
          "text": [
            "['in', 'publishing', 'and', 'graphic', 'design', ',', 'lorem', 'ipsum', 'be', 'a', 'placeholder', 'text', 'commonly', 'use', 'to', 'demonstrate', 'the', 'visual', 'form', 'of', 'a', 'document', 'or', 'a', 'typeface', 'without', 'rely', 'on', 'meaningful', 'content', '.', 'lorem', 'ipsum', 'may', 'be', 'use', 'as', 'a', 'placeholder', 'before', 'final', 'copy', 'be', 'available', '.']\n"
          ],
          "name": "stdout"
        }
      ]
    },
    {
      "cell_type": "markdown",
      "metadata": {
        "id": "LS4l3LZebpoi"
      },
      "source": [
        "##POS tags"
      ]
    },
    {
      "cell_type": "code",
      "metadata": {
        "colab": {
          "base_uri": "https://localhost:8080/"
        },
        "id": "lghiYf0UaY6a",
        "outputId": "603a9a1d-9d48-4882-bad4-d1dcc6b5ce9b"
      },
      "source": [
        "print([(token.pos_, token.tag_) for token in proc])"
      ],
      "execution_count": 28,
      "outputs": [
        {
          "output_type": "stream",
          "text": [
            "[('ADP', 'IN'), ('NOUN', 'NN'), ('CCONJ', 'CC'), ('ADJ', 'JJ'), ('NOUN', 'NN'), ('PUNCT', ','), ('ADJ', 'JJ'), ('NOUN', 'NN'), ('AUX', 'VBZ'), ('DET', 'DT'), ('NOUN', 'NN'), ('NOUN', 'NN'), ('ADV', 'RB'), ('VERB', 'VBN'), ('PART', 'TO'), ('VERB', 'VB'), ('DET', 'DT'), ('ADJ', 'JJ'), ('NOUN', 'NN'), ('ADP', 'IN'), ('DET', 'DT'), ('NOUN', 'NN'), ('CCONJ', 'CC'), ('DET', 'DT'), ('NOUN', 'NN'), ('ADP', 'IN'), ('VERB', 'VBG'), ('ADP', 'IN'), ('ADJ', 'JJ'), ('NOUN', 'NN'), ('PUNCT', '.'), ('ADJ', 'JJ'), ('NOUN', 'NN'), ('VERB', 'MD'), ('AUX', 'VB'), ('VERB', 'VBN'), ('SCONJ', 'IN'), ('DET', 'DT'), ('NOUN', 'NN'), ('ADP', 'IN'), ('ADJ', 'JJ'), ('NOUN', 'NN'), ('AUX', 'VBZ'), ('ADJ', 'JJ'), ('PUNCT', '.')]\n"
          ],
          "name": "stdout"
        }
      ]
    },
    {
      "cell_type": "markdown",
      "metadata": {
        "id": "jPSBBKjea1wc"
      },
      "source": [
        "##NER, text, start & end loc"
      ]
    },
    {
      "cell_type": "code",
      "metadata": {
        "colab": {
          "base_uri": "https://localhost:8080/"
        },
        "id": "0tm8hehpapyr",
        "outputId": "544bff76-0532-41be-ff2d-6cc434ed4e1c"
      },
      "source": [
        "print([(token.label_, token.text, token.start_char, token.end_char) for token in proc.ents])"
      ],
      "execution_count": 27,
      "outputs": [
        {
          "output_type": "stream",
          "text": [
            "[('PERSON', 'Lorem', 34, 39)]\n"
          ],
          "name": "stdout"
        }
      ]
    }
  ]
}